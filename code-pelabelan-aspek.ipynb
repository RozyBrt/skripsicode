{
 "cells": [
  {
   "cell_type": "code",
   "execution_count": 3,
   "metadata": {},
   "outputs": [
    {
     "name": "stdout",
     "output_type": "stream",
     "text": [
      "                                                teks label-aspek  \\\n",
      "0  pandemik bayar gaji selesa kerja relaks fikir ...  Kompensasi   \n",
      "1                                         gaji cepat  Kompensasi   \n",
      "2  pilih salah harga level tutup bawa gerbong rom...  Kompensasi   \n",
      "3  bangun pagi semangat pergi kerja tepu kerja ru...  Kompensasi   \n",
      "4  alas jahat banget arah kerja visi jahat bungku...  Kompensasi   \n",
      "\n",
      "   skor-label-aspek  \n",
      "0                 0  \n",
      "1                 0  \n",
      "2                 0  \n",
      "3                 0  \n",
      "4                 0  \n"
     ]
    }
   ],
   "source": [
    "import pandas as pd\n",
    "import json\n",
    "\n",
    "df = pd.read_csv('dataset-berlabel.csv')\n",
    "\n",
    "# Tentukan Aspek dengan Skor\n",
    "def tentukan_aspek(text, aspek_kompensasi, aspek_kepuasan_kerja, aspek_aktualisasi, aspek_hubungan):\n",
    "    # Hitung jumlah kata yang cocok dengan aspek\n",
    "    kompensasi = sum(1 for word in text.split() if word in aspek_kompensasi)\n",
    "    kepuasan = sum(1 for word in text.split() if word in aspek_kepuasan_kerja)\n",
    "    aktualisasi = sum(1 for word in text.split() if word in aspek_aktualisasi)\n",
    "    hubungan = sum(1 for word in text.split() if word in aspek_hubungan)\n",
    "\n",
    "    # Tentukan label dan skor\n",
    "    scores = {\n",
    "        'Kompensasi': kompensasi,\n",
    "        'Kepuasan Kerja': kepuasan,\n",
    "        'Aktualisasi': aktualisasi,\n",
    "        'Hubungan': hubungan\n",
    "    }\n",
    "\n",
    "    # Pilih aspek dengan skor terbanyak\n",
    "    label_aspek = max(scores, key=scores.get)\n",
    "    # skor_aspek = scores[label_aspek]\n",
    "\n",
    "    return label_aspek\n",
    "\n",
    "# Load lexicon for each aspect\n",
    "def load_lexicon(file_path):\n",
    "    with open(file_path, 'r', encoding='utf-8') as file:\n",
    "        return set(json.load(file))\n",
    "\n",
    "# Load leksikon dari file\n",
    "aspek_kompensasi = load_lexicon('leksikon/aspek-kompensasi.json')\n",
    "aspek_kepuasan = load_lexicon('leksikon/aspek-kepuasan-kerja.json')\n",
    "aspek_aktualisasi = load_lexicon('leksikon/aspek-aktualisasi.json')\n",
    "aspek_hubungan = load_lexicon('leksikon/aspek-hubungan-kerja.json')\n",
    "\n",
    "\n",
    "# Misalkan df adalah DataFrame yang sudah ada dan memiliki kolom 'teks'\n",
    "# Terapkan fungsi tentukan_aspek pada kolom 'teks' dan simpan hasilnya pada kolom baru\n",
    "df[['label-aspek']] = df['teks'].apply(\n",
    "    lambda x: pd.Series(tentukan_aspek(x, aspek_kompensasi, aspek_kepuasan, aspek_aktualisasi, aspek_hubungan))\n",
    ")\n",
    "\n",
    "# Menambahkan kolom 'skor-label-aspek' berdasarkan kondisi tertentu\n",
    "def assign_skor_label_aspek(label_aspek):\n",
    "    if 'Kompensasi' in label_aspek:\n",
    "        return 0\n",
    "    elif 'Kepuasan Kerja' in label_aspek:\n",
    "        return 1\n",
    "    elif 'Aktualisasi' in label_aspek:\n",
    "        return 2\n",
    "    elif 'Hubungan' in label_aspek:\n",
    "        return 3\n",
    "    else:\n",
    "        return 4  # Nilai default jika tidak ada yang cocok\n",
    "\n",
    "# Terapkan fungsi ke kolom 'label-aspek' untuk membuat kolom 'skor-label-aspek'\n",
    "df['skor-label-aspek'] = df['label-aspek'].apply(assign_skor_label_aspek)\n",
    "\n",
    "# Menampilkan hasil\n",
    "print(df[['teks', 'label-aspek','skor-label-aspek']].head())\n",
    "\n",
    "df.to_csv('dataset-berlabel-aspek.csv', index=False)\n",
    "df.to_csv('dataset-berlabel-aspek.txt', index=False)"
   ]
  }
 ],
 "metadata": {
  "kernelspec": {
   "display_name": "Python 3",
   "language": "python",
   "name": "python3"
  },
  "language_info": {
   "codemirror_mode": {
    "name": "ipython",
    "version": 3
   },
   "file_extension": ".py",
   "mimetype": "text/x-python",
   "name": "python",
   "nbconvert_exporter": "python",
   "pygments_lexer": "ipython3",
   "version": "3.13.0"
  }
 },
 "nbformat": 4,
 "nbformat_minor": 2
}
